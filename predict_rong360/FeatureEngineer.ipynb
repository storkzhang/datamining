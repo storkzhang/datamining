{
 "cells": [
  {
   "cell_type": "markdown",
   "metadata": {},
   "source": [
    "# STEP3: FeatureEngineering 特征工程\n",
    "## Version Change：\n",
    "**11-07** v2版本的改动：<br>\n",
    "1. 对bill_detail_train_time20181106, bill_detail_test_time20181106，bill_detail_train_notime20181106, bill_detail_test_notime20181106做特征工程\n",
    "\n",
    "**11-08** v3版本的改动：<br>\n",
    "1. 对bill_detail_train_all20181106, bill_detail_test_all20181106做特征工程\n",
    "\n",
    "\n",
    "Input：\n",
    "- Step2产生的../feature目录下所有的feature文件\n",
    "\n",
    "Output：\n",
    "- 输出经过特征变换的结果，并保存在 ../feature/features_all_train_test_20181106.csv\n",
    "\n"
   ]
  },
  {
   "cell_type": "code",
   "execution_count": 11,
   "metadata": {
    "ExecuteTime": {
     "end_time": "2018-11-18T06:11:45.204288Z",
     "start_time": "2018-11-18T06:11:44.762897Z"
    }
   },
   "outputs": [],
   "source": [
    "import numpy as np\n",
    "import pandas as pd\n",
    "from sklearn.preprocessing import PolynomialFeatures\n",
    "from sklearn.model_selection import train_test_split\n",
    "\n",
    "\n",
    "# common prefix\n",
    "TRAIN_PREFIX = \"../train/\"\n",
    "TEST_PREFIX = \"../B/\"\n",
    "FEATURE_PREFIX = \"../feature/\"\n",
    "\n",
    "# File Encoder\n",
    "FILE_ENCODER = \"utf-8\"\n",
    "\n",
    "\n",
    "def saveFeatureToFile(features, output_file):\n",
    "    features.to_csv(output_file,index=None,encoding=FILE_ENCODER)\n"
   ]
  },
  {
   "cell_type": "code",
   "execution_count": 12,
   "metadata": {
    "ExecuteTime": {
     "end_time": "2018-11-18T06:11:45.355432Z",
     "start_time": "2018-11-18T06:11:45.335089Z"
    }
   },
   "outputs": [],
   "source": [
    "def extractSimpleFeature(train_file, test_file):\n",
    "#     print(\"extractSimpleFeature\")\n",
    "#     train = pd.read_csv(train_file,encoding=FILE_ENCODER)\n",
    "#     test = pd.read_csv(test_file,encoding=FILE_ENCODER)\n",
    "#     test=test.fillna(-1)\n",
    "#     dataset= pd.concat([train,test],axis=0).reset_index()\n",
    "#     label=dataset[['用户标识','标签']]\n",
    "#     dataset=dataset.drop(['index','用户标识'],axis=1)\n",
    "\n",
    "#     dataset=pd.get_dummies(dataset,\n",
    "#                            columns=['用户性别','用户职业','用户教育程度','用户婚姻状态','用户户口类型']\n",
    "#                           ).drop(['标签'],axis=1)\n",
    "#     print(dataset.shape)\n",
    "#     poly = PolynomialFeatures(interaction_only=True)\n",
    "#     dataset=poly.fit_transform(dataset)\n",
    "    \n",
    "#     df = pd.DataFrame(dataset.reshape(dataset.shape[0],301)) # 301是一个待调整参数\n",
    "#     df.interpolate(axis=1).values.reshape(dataset.shape)\n",
    "\n",
    "#     trains=pd.concat([label,df],axis=1)\n",
    "#     print(trains.shape)\n",
    "#     return trains\n",
    "    train = pd.read_csv(train_file,encoding=FILE_ENCODER)\n",
    "    test = pd.read_csv(test_file,encoding=FILE_ENCODER)\n",
    "    test=test.fillna(-1)\n",
    "    dataset= pd.concat([train,test],axis=0).reset_index()\n",
    "    dataset=dataset.drop(['index'],axis=1)\n",
    "\n",
    "    dataset=pd.get_dummies(dataset,\n",
    "                           columns=['用户性别','用户职业','用户教育程度','用户婚姻状态','用户户口类型']\n",
    "                          )\n",
    "    return dataset\n",
    "\n",
    "\n"
   ]
  },
  {
   "cell_type": "code",
   "execution_count": 13,
   "metadata": {
    "ExecuteTime": {
     "end_time": "2018-11-18T06:11:45.882245Z",
     "start_time": "2018-11-18T06:11:45.845353Z"
    }
   },
   "outputs": [],
   "source": [
    "# 1. bill_detail_train_time20181106, bill_detail_test_time20181106\n",
    "def extractBillFeatureTime(trains, train_file, test_file):\n",
    "    print(\"extractBillFeatureTime\")\n",
    "    train = pd.read_csv(train_file,encoding=FILE_ENCODER) \n",
    "    test = pd.read_csv(test_file,encoding=FILE_ENCODER) \n",
    "    dataset= pd.concat([train,test],axis=0)\n",
    "    temp=dataset[:]\n",
    "    temp.drop('放款时间',axis=1, inplace=True)\n",
    "    \n",
    "    #统计行和列的缺失值数\n",
    "    #dataset=dataset.fillna(-1)\n",
    "    #temp['用户账单表特征_时间已知缺失统计']=(dataset==-1).sum(axis=1)\n",
    "    #特征轮：构造放款后与放款前差值特征\n",
    "    feature_name=temp.columns \n",
    "\n",
    "    for name in feature_name:\n",
    "        if name.find('款后')> 0 and name.find('与') <=0:\n",
    "            x1=name.replace('款后','款前')\n",
    "            if x1 in feature_name:\n",
    "                temp[name+\"与\"+x1+\"差值\"]=temp[name]-temp[x1]        \n",
    "    #用均值填充缺失值\n",
    "    #temp.fillna(temp.mean(),inplace=True)\n",
    "    temp.fillna(0,inplace=True)\n",
    "    trains=pd.merge(trains,temp,how='left', on = \"用户标识\")\n",
    "    print(trains.shape)\n",
    "    return trains\n",
    "    \n",
    "    "
   ]
  },
  {
   "cell_type": "code",
   "execution_count": 14,
   "metadata": {
    "ExecuteTime": {
     "end_time": "2018-11-18T06:11:46.459102Z",
     "start_time": "2018-11-18T06:11:46.409232Z"
    }
   },
   "outputs": [],
   "source": [
    "# 2. bill_detail_train_notime20181106, bill_detail_test_notime20181106\n",
    "def extractBillFeatureNoTime(trains, train_file, test_file):\n",
    "    print(\"extractBillFeatureNoTime\")\n",
    "    train = pd.read_csv(train_file,encoding=FILE_ENCODER) \n",
    "    test = pd.read_csv(test_file,encoding=FILE_ENCODER) \n",
    "    # 随机删除部分时间未知样本，保证训练集与测试集的特征分布相似\n",
    "    print(train.shape)\n",
    "    train_true=train[train['时间未知上期账单金额_sum'].isnull().values==True]\n",
    "    print(train_true.shape)\n",
    "    train_false=train[train['时间未知上期账单金额_sum'].isnull().values==False]\n",
    "    print(train_false.shape)\n",
    "    t1,t2=train_test_split(train_false, test_size = 0.5,random_state=36)\n",
    "    print(t1.shape)\n",
    "    train=pd.concat([train_true,t1],axis=0)\n",
    "    print(train.shape)\n",
    "\n",
    "    ####################################################################\n",
    "\n",
    "    dataset= pd.concat([train,test],axis=0)\n",
    "    #dataset['账单时间未知标志']=1\n",
    "    temp=dataset[:]\n",
    "    #temp.drop('放款时间',axis=1, inplace=True)\n",
    "    print(temp.shape)\n",
    "    #统计行和列的缺失值数\n",
    "    #dataset=dataset.fillna(-1)\n",
    "    #temp['用户账单表特征_时间未知缺失统计']=(dataset==-1).sum(axis=1)        \n",
    "    #用均值填充缺失值\n",
    "    #temp.fillna(temp.mean(),inplace=True)\n",
    "    temp.fillna(0,inplace=True)\n",
    "    print(temp.shape)\n",
    "    trains=pd.merge(trains,temp,how='inner', on = \"用户标识\")\n",
    "    print(\"final trains feature shape:\")\n",
    "    print(trains.shape)\n",
    "    return trains\n",
    "\n"
   ]
  },
  {
   "cell_type": "code",
   "execution_count": 15,
   "metadata": {
    "ExecuteTime": {
     "end_time": "2018-11-18T06:11:46.983656Z",
     "start_time": "2018-11-18T06:11:46.961242Z"
    }
   },
   "outputs": [],
   "source": [
    "# 3. bill_detail_train_all20181106, bill_detail_test_all20181106\n",
    "def extractBillFeatureAll(trains, train_file, test_file):\n",
    "    print(\"extractBillFeatureAll\")\n",
    "    train = pd.read_csv(train_file,encoding=FILE_ENCODER)\n",
    "    test = pd.read_csv(test_file,encoding=FILE_ENCODER)\n",
    "    dataset= pd.concat([train,test],axis=0)\n",
    "    temp=dataset[:]\n",
    "    #temp.drop('放款时间',axis=1, inplace=True)\n",
    "    print(temp.shape)#(69495, 242)\n",
    "    #统计行和列的缺失值数\n",
    "    #dataset=dataset.fillna(-1)\n",
    "    #temp['用户账单表特征_时间未知缺失统计']=(dataset==-1).sum(axis=1)        \n",
    "    #用均值填充缺失值\n",
    "    #temp.fillna(temp.mean(),inplace=True)\n",
    "    temp.fillna(0,inplace=True)\n",
    "    print(temp.shape)#(69495, 243)\n",
    "    trains=pd.merge(trains,temp,how='left', on = \"用户标识\")#1154+243\n",
    "    print(trains.shape)#(69495, 1633)\n",
    "    return trains"
   ]
  },
  {
   "cell_type": "code",
   "execution_count": 16,
   "metadata": {
    "ExecuteTime": {
     "end_time": "2018-11-18T06:11:47.536935Z",
     "start_time": "2018-11-18T06:11:47.517141Z"
    }
   },
   "outputs": [],
   "source": [
    "def extractBillFeature2(trains, train_file, test_file):\n",
    "    print(\"extractBillFeature2\")\n",
    "    train = pd.read_csv(train_file,encoding=FILE_ENCODER)\n",
    "    test = pd.read_csv(test_file,encoding=FILE_ENCODER)\n",
    "    dataset= pd.concat([train,test],axis=0)\n",
    "    temp=dataset[:]\n",
    "    #temp.drop('放款时间',axis=1, inplace=True)\n",
    "    print(temp.shape)#(69495, 242)\n",
    "    #统计行和列的缺失值数\n",
    "    #dataset=dataset.fillna(-1)\n",
    "    #temp['用户账单表特征_时间未知缺失统计']=(dataset==-1).sum(axis=1)        \n",
    "    #用均值填充缺失值\n",
    "    #temp.fillna(temp.mean(),inplace=True)\n",
    "    temp.fillna(0,inplace=True)\n",
    "    print(temp.shape)\n",
    "    trains=pd.merge(trains,temp,how='left', on = \"用户标识\")\n",
    "    print(trains.shape)\n",
    "    return trains"
   ]
  },
  {
   "cell_type": "code",
   "execution_count": 17,
   "metadata": {
    "ExecuteTime": {
     "end_time": "2018-11-18T06:11:48.269106Z",
     "start_time": "2018-11-18T06:11:48.238468Z"
    }
   },
   "outputs": [],
   "source": [
    "def extractBillFeatureBasic(trains, train_file, test_file):\n",
    "    print(\"extractBillFeatureBasic\")\n",
    "    train = pd.read_csv(train_file,encoding=FILE_ENCODER)\n",
    "    test = pd.read_csv(test_file,encoding=FILE_ENCODER)\n",
    "    dataset= pd.concat([train,test],axis=0)\n",
    "    temp=dataset[:]\n",
    "    temp.drop('放款时间',axis=1, inplace=True)\n",
    "    print(temp.shape)\n",
    "    #统计行和列的缺失值数\n",
    "    #dataset=dataset.fillna(-1)\n",
    "    #temp['用户账单表初级特征缺失统计']=(dataset==-1).sum(axis=1)\n",
    "    #特征轮：构造放款后与放款前差值特征\n",
    "    feature_name=temp.columns \n",
    "    for name in feature_name:\n",
    "        if name.find('款后')> 0 and name.find('与') <=0:\n",
    "            x1=name.replace('款后','款前')\n",
    "            if x1 in feature_name:\n",
    "                temp[name+\"与\"+x1+\"差值\"]=temp[name]-temp[x1]        \n",
    "    #用均值填充缺失值\n",
    "    #emp.fillna(temp.mean(),inplace=True)\n",
    "    temp.fillna(0,inplace=True)\n",
    "    print(temp.shape)\n",
    "    trains=pd.merge(trains,temp,how='left', on = \"用户标识\")\n",
    "    print(trains.shape)#69495 rows × 445  columns\n",
    "    return trains"
   ]
  },
  {
   "cell_type": "code",
   "execution_count": 18,
   "metadata": {
    "ExecuteTime": {
     "end_time": "2018-11-18T06:11:48.831021Z",
     "start_time": "2018-11-18T06:11:48.809099Z"
    }
   },
   "outputs": [],
   "source": [
    "def extractBrowseHistoryFeature(trains, train_file, test_file):\n",
    "    print(\"extractBrowseHistoryFeature\")\n",
    "    train = pd.read_csv(train_file,encoding=FILE_ENCODER)\n",
    "    test = pd.read_csv(test_file,encoding=FILE_ENCODER)\n",
    "    dataset= pd.concat([train,test],axis=0)\n",
    "\n",
    "    temp=dataset[:]\n",
    "    #temp.drop('浏览时间',axis=1, inplace=True)\n",
    "    #print(temp.shape)\n",
    "    #统计行和列的缺失值数\n",
    "    #dataset=dataset.fillna(-1)\n",
    "    #temp['用户浏览行为缺失统计']=(dataset==-1).sum(axis=1)\n",
    "    #用均值填充缺失值\n",
    "    #temp.fillna(temp.mean(),inplace=True)\n",
    "    temp.fillna(0,inplace=True)\n",
    "    #print(temp.shape)\n",
    "    trains=pd.merge(trains,temp,how='left', on = \"用户标识\")\n",
    "    print(trains.shape)\n",
    "    return trains"
   ]
  },
  {
   "cell_type": "code",
   "execution_count": 19,
   "metadata": {
    "ExecuteTime": {
     "end_time": "2018-11-18T06:11:49.435829Z",
     "start_time": "2018-11-18T06:11:49.417323Z"
    }
   },
   "outputs": [],
   "source": [
    "def extractBankDetailFeature(trains, train_file, test_file):\n",
    "    print(\"extractBankDetailFeature\")\n",
    "    train = pd.read_csv(train_file,encoding=FILE_ENCODER)\n",
    "    test = pd.read_csv(test_file,encoding=FILE_ENCODER)\n",
    "    dataset= pd.concat([train,test],axis=0)\n",
    "    temp=dataset[:]\n",
    "    temp.drop('放款时间',axis=1, inplace=True)\n",
    "    print(temp.shape)\n",
    "    #统计行和列的缺失值数\n",
    "    #dataset=dataset.fillna(-1)\n",
    "    #temp['用户银行流水记录缺失统计']=(dataset==-1).sum(axis=1)\n",
    "    #用均值填充缺失值\n",
    "    #temp.fillna(temp.mean(),inplace=True)\n",
    "    temp.fillna(0,inplace=True)\n",
    "    print(temp.shape)\n",
    "    trains=pd.merge(trains,temp,how='left', on = \"用户标识\")\n",
    "    print(trains.shape)\n",
    "    return trains"
   ]
  },
  {
   "cell_type": "code",
   "execution_count": 20,
   "metadata": {
    "ExecuteTime": {
     "end_time": "2018-11-18T06:14:59.118530Z",
     "start_time": "2018-11-18T06:11:49.960638Z"
    }
   },
   "outputs": [
    {
     "name": "stdout",
     "output_type": "stream",
     "text": [
      "begin\n"
     ]
    },
    {
     "ename": "FileNotFoundError",
     "evalue": "File b'../feature/basic_train_20181106.csv' does not exist",
     "output_type": "error",
     "traceback": [
      "\u001b[0;31m---------------------------------------------------------------------------\u001b[0m",
      "\u001b[0;31mFileNotFoundError\u001b[0m                         Traceback (most recent call last)",
      "\u001b[0;32m<ipython-input-20-be66e6b0a357>\u001b[0m in \u001b[0;36m<module>\u001b[0;34m\u001b[0m\n\u001b[1;32m      3\u001b[0m \u001b[0mprint\u001b[0m\u001b[0;34m(\u001b[0m\u001b[0;34m\"begin\"\u001b[0m\u001b[0;34m)\u001b[0m\u001b[0;34m\u001b[0m\u001b[0m\n\u001b[1;32m      4\u001b[0m trains = extractSimpleFeature(\"../feature/basic_train_20181106.csv\", \n\u001b[0;32m----> 5\u001b[0;31m                               \"../feature/basic_test_20181106.csv\")\n\u001b[0m\u001b[1;32m      6\u001b[0m \u001b[0;34m\u001b[0m\u001b[0m\n\u001b[1;32m      7\u001b[0m trains = extractBrowseHistoryFeature(trains,\n",
      "\u001b[0;32m<ipython-input-12-2562d0c8f286>\u001b[0m in \u001b[0;36mextractSimpleFeature\u001b[0;34m(train_file, test_file)\u001b[0m\n\u001b[1;32m     21\u001b[0m \u001b[0;31m#     print(trains.shape)\u001b[0m\u001b[0;34m\u001b[0m\u001b[0;34m\u001b[0m\u001b[0m\n\u001b[1;32m     22\u001b[0m \u001b[0;31m#     return trains\u001b[0m\u001b[0;34m\u001b[0m\u001b[0;34m\u001b[0m\u001b[0m\n\u001b[0;32m---> 23\u001b[0;31m     \u001b[0mtrain\u001b[0m \u001b[0;34m=\u001b[0m \u001b[0mpd\u001b[0m\u001b[0;34m.\u001b[0m\u001b[0mread_csv\u001b[0m\u001b[0;34m(\u001b[0m\u001b[0mtrain_file\u001b[0m\u001b[0;34m,\u001b[0m\u001b[0mencoding\u001b[0m\u001b[0;34m=\u001b[0m\u001b[0mFILE_ENCODER\u001b[0m\u001b[0;34m)\u001b[0m\u001b[0;34m\u001b[0m\u001b[0m\n\u001b[0m\u001b[1;32m     24\u001b[0m     \u001b[0mtest\u001b[0m \u001b[0;34m=\u001b[0m \u001b[0mpd\u001b[0m\u001b[0;34m.\u001b[0m\u001b[0mread_csv\u001b[0m\u001b[0;34m(\u001b[0m\u001b[0mtest_file\u001b[0m\u001b[0;34m,\u001b[0m\u001b[0mencoding\u001b[0m\u001b[0;34m=\u001b[0m\u001b[0mFILE_ENCODER\u001b[0m\u001b[0;34m)\u001b[0m\u001b[0;34m\u001b[0m\u001b[0m\n\u001b[1;32m     25\u001b[0m     \u001b[0mtest\u001b[0m\u001b[0;34m=\u001b[0m\u001b[0mtest\u001b[0m\u001b[0;34m.\u001b[0m\u001b[0mfillna\u001b[0m\u001b[0;34m(\u001b[0m\u001b[0;34m-\u001b[0m\u001b[0;36m1\u001b[0m\u001b[0;34m)\u001b[0m\u001b[0;34m\u001b[0m\u001b[0m\n",
      "\u001b[0;32m/data/soft/anaconda3/lib/python3.6/site-packages/pandas/io/parsers.py\u001b[0m in \u001b[0;36mparser_f\u001b[0;34m(filepath_or_buffer, sep, delimiter, header, names, index_col, usecols, squeeze, prefix, mangle_dupe_cols, dtype, engine, converters, true_values, false_values, skipinitialspace, skiprows, nrows, na_values, keep_default_na, na_filter, verbose, skip_blank_lines, parse_dates, infer_datetime_format, keep_date_col, date_parser, dayfirst, iterator, chunksize, compression, thousands, decimal, lineterminator, quotechar, quoting, escapechar, comment, encoding, dialect, tupleize_cols, error_bad_lines, warn_bad_lines, skipfooter, doublequote, delim_whitespace, low_memory, memory_map, float_precision)\u001b[0m\n\u001b[1;32m    676\u001b[0m                     skip_blank_lines=skip_blank_lines)\n\u001b[1;32m    677\u001b[0m \u001b[0;34m\u001b[0m\u001b[0m\n\u001b[0;32m--> 678\u001b[0;31m         \u001b[0;32mreturn\u001b[0m \u001b[0m_read\u001b[0m\u001b[0;34m(\u001b[0m\u001b[0mfilepath_or_buffer\u001b[0m\u001b[0;34m,\u001b[0m \u001b[0mkwds\u001b[0m\u001b[0;34m)\u001b[0m\u001b[0;34m\u001b[0m\u001b[0m\n\u001b[0m\u001b[1;32m    679\u001b[0m \u001b[0;34m\u001b[0m\u001b[0m\n\u001b[1;32m    680\u001b[0m     \u001b[0mparser_f\u001b[0m\u001b[0;34m.\u001b[0m\u001b[0m__name__\u001b[0m \u001b[0;34m=\u001b[0m \u001b[0mname\u001b[0m\u001b[0;34m\u001b[0m\u001b[0m\n",
      "\u001b[0;32m/data/soft/anaconda3/lib/python3.6/site-packages/pandas/io/parsers.py\u001b[0m in \u001b[0;36m_read\u001b[0;34m(filepath_or_buffer, kwds)\u001b[0m\n\u001b[1;32m    438\u001b[0m \u001b[0;34m\u001b[0m\u001b[0m\n\u001b[1;32m    439\u001b[0m     \u001b[0;31m# Create the parser.\u001b[0m\u001b[0;34m\u001b[0m\u001b[0;34m\u001b[0m\u001b[0m\n\u001b[0;32m--> 440\u001b[0;31m     \u001b[0mparser\u001b[0m \u001b[0;34m=\u001b[0m \u001b[0mTextFileReader\u001b[0m\u001b[0;34m(\u001b[0m\u001b[0mfilepath_or_buffer\u001b[0m\u001b[0;34m,\u001b[0m \u001b[0;34m**\u001b[0m\u001b[0mkwds\u001b[0m\u001b[0;34m)\u001b[0m\u001b[0;34m\u001b[0m\u001b[0m\n\u001b[0m\u001b[1;32m    441\u001b[0m \u001b[0;34m\u001b[0m\u001b[0m\n\u001b[1;32m    442\u001b[0m     \u001b[0;32mif\u001b[0m \u001b[0mchunksize\u001b[0m \u001b[0;32mor\u001b[0m \u001b[0miterator\u001b[0m\u001b[0;34m:\u001b[0m\u001b[0;34m\u001b[0m\u001b[0m\n",
      "\u001b[0;32m/data/soft/anaconda3/lib/python3.6/site-packages/pandas/io/parsers.py\u001b[0m in \u001b[0;36m__init__\u001b[0;34m(self, f, engine, **kwds)\u001b[0m\n\u001b[1;32m    785\u001b[0m             \u001b[0mself\u001b[0m\u001b[0;34m.\u001b[0m\u001b[0moptions\u001b[0m\u001b[0;34m[\u001b[0m\u001b[0;34m'has_index_names'\u001b[0m\u001b[0;34m]\u001b[0m \u001b[0;34m=\u001b[0m \u001b[0mkwds\u001b[0m\u001b[0;34m[\u001b[0m\u001b[0;34m'has_index_names'\u001b[0m\u001b[0;34m]\u001b[0m\u001b[0;34m\u001b[0m\u001b[0m\n\u001b[1;32m    786\u001b[0m \u001b[0;34m\u001b[0m\u001b[0m\n\u001b[0;32m--> 787\u001b[0;31m         \u001b[0mself\u001b[0m\u001b[0;34m.\u001b[0m\u001b[0m_make_engine\u001b[0m\u001b[0;34m(\u001b[0m\u001b[0mself\u001b[0m\u001b[0;34m.\u001b[0m\u001b[0mengine\u001b[0m\u001b[0;34m)\u001b[0m\u001b[0;34m\u001b[0m\u001b[0m\n\u001b[0m\u001b[1;32m    788\u001b[0m \u001b[0;34m\u001b[0m\u001b[0m\n\u001b[1;32m    789\u001b[0m     \u001b[0;32mdef\u001b[0m \u001b[0mclose\u001b[0m\u001b[0;34m(\u001b[0m\u001b[0mself\u001b[0m\u001b[0;34m)\u001b[0m\u001b[0;34m:\u001b[0m\u001b[0;34m\u001b[0m\u001b[0m\n",
      "\u001b[0;32m/data/soft/anaconda3/lib/python3.6/site-packages/pandas/io/parsers.py\u001b[0m in \u001b[0;36m_make_engine\u001b[0;34m(self, engine)\u001b[0m\n\u001b[1;32m   1012\u001b[0m     \u001b[0;32mdef\u001b[0m \u001b[0m_make_engine\u001b[0m\u001b[0;34m(\u001b[0m\u001b[0mself\u001b[0m\u001b[0;34m,\u001b[0m \u001b[0mengine\u001b[0m\u001b[0;34m=\u001b[0m\u001b[0;34m'c'\u001b[0m\u001b[0;34m)\u001b[0m\u001b[0;34m:\u001b[0m\u001b[0;34m\u001b[0m\u001b[0m\n\u001b[1;32m   1013\u001b[0m         \u001b[0;32mif\u001b[0m \u001b[0mengine\u001b[0m \u001b[0;34m==\u001b[0m \u001b[0;34m'c'\u001b[0m\u001b[0;34m:\u001b[0m\u001b[0;34m\u001b[0m\u001b[0m\n\u001b[0;32m-> 1014\u001b[0;31m             \u001b[0mself\u001b[0m\u001b[0;34m.\u001b[0m\u001b[0m_engine\u001b[0m \u001b[0;34m=\u001b[0m \u001b[0mCParserWrapper\u001b[0m\u001b[0;34m(\u001b[0m\u001b[0mself\u001b[0m\u001b[0;34m.\u001b[0m\u001b[0mf\u001b[0m\u001b[0;34m,\u001b[0m \u001b[0;34m**\u001b[0m\u001b[0mself\u001b[0m\u001b[0;34m.\u001b[0m\u001b[0moptions\u001b[0m\u001b[0;34m)\u001b[0m\u001b[0;34m\u001b[0m\u001b[0m\n\u001b[0m\u001b[1;32m   1015\u001b[0m         \u001b[0;32melse\u001b[0m\u001b[0;34m:\u001b[0m\u001b[0;34m\u001b[0m\u001b[0m\n\u001b[1;32m   1016\u001b[0m             \u001b[0;32mif\u001b[0m \u001b[0mengine\u001b[0m \u001b[0;34m==\u001b[0m \u001b[0;34m'python'\u001b[0m\u001b[0;34m:\u001b[0m\u001b[0;34m\u001b[0m\u001b[0m\n",
      "\u001b[0;32m/data/soft/anaconda3/lib/python3.6/site-packages/pandas/io/parsers.py\u001b[0m in \u001b[0;36m__init__\u001b[0;34m(self, src, **kwds)\u001b[0m\n\u001b[1;32m   1706\u001b[0m         \u001b[0mkwds\u001b[0m\u001b[0;34m[\u001b[0m\u001b[0;34m'usecols'\u001b[0m\u001b[0;34m]\u001b[0m \u001b[0;34m=\u001b[0m \u001b[0mself\u001b[0m\u001b[0;34m.\u001b[0m\u001b[0musecols\u001b[0m\u001b[0;34m\u001b[0m\u001b[0m\n\u001b[1;32m   1707\u001b[0m \u001b[0;34m\u001b[0m\u001b[0m\n\u001b[0;32m-> 1708\u001b[0;31m         \u001b[0mself\u001b[0m\u001b[0;34m.\u001b[0m\u001b[0m_reader\u001b[0m \u001b[0;34m=\u001b[0m \u001b[0mparsers\u001b[0m\u001b[0;34m.\u001b[0m\u001b[0mTextReader\u001b[0m\u001b[0;34m(\u001b[0m\u001b[0msrc\u001b[0m\u001b[0;34m,\u001b[0m \u001b[0;34m**\u001b[0m\u001b[0mkwds\u001b[0m\u001b[0;34m)\u001b[0m\u001b[0;34m\u001b[0m\u001b[0m\n\u001b[0m\u001b[1;32m   1709\u001b[0m \u001b[0;34m\u001b[0m\u001b[0m\n\u001b[1;32m   1710\u001b[0m         \u001b[0mpassed_names\u001b[0m \u001b[0;34m=\u001b[0m \u001b[0mself\u001b[0m\u001b[0;34m.\u001b[0m\u001b[0mnames\u001b[0m \u001b[0;32mis\u001b[0m \u001b[0;32mNone\u001b[0m\u001b[0;34m\u001b[0m\u001b[0m\n",
      "\u001b[0;32mpandas/_libs/parsers.pyx\u001b[0m in \u001b[0;36mpandas._libs.parsers.TextReader.__cinit__\u001b[0;34m()\u001b[0m\n",
      "\u001b[0;32mpandas/_libs/parsers.pyx\u001b[0m in \u001b[0;36mpandas._libs.parsers.TextReader._setup_parser_source\u001b[0;34m()\u001b[0m\n",
      "\u001b[0;31mFileNotFoundError\u001b[0m: File b'../feature/basic_train_20181106.csv' does not exist"
     ]
    }
   ],
   "source": [
    "#Step3.1 不要分开执行每个函数，要一起执行，防止trains反复merge，造成feature重复\n",
    "#特征工程：特征变换、哑变量（Dummies）构造、多项式变换等\n",
    "print(\"begin\")\n",
    "trains = extractSimpleFeature(\"../feature/basic_train_20181106.csv\", \n",
    "                              \"../feature/basic_test_20181106.csv\")\n",
    "\n",
    "trains = extractBrowseHistoryFeature(trains,\n",
    "                                     \"../feature/browse_detail_train20181106.csv\",\n",
    "                                     \"../feature/browse_detail_test20181106.csv\")\n",
    "\n",
    "trains = extractBankDetailFeature(trains,\n",
    "                                     \"../feature/bank_detail_train20181106.csv\",\n",
    "                                     \"../feature/bank_detail_test20181106.csv\")\n",
    "#trains = extractBankDetailFeature(trains,\n",
    "#                                     \"../feature/bank_detail2_train20181106.csv\",\n",
    "#                                     \"../feature/bank_detail2_test20181106.csv\")\n",
    "\n",
    "trains = extractBillFeatureBasic(trains, \n",
    "                                   \"../feature/bill_detail_train_basic20181106.csv\", \n",
    "                                   \"../feature/bill_detail_test_basic20181106.csv\")\n",
    "\n",
    "trains = extractBillFeatureTime(trains, \n",
    "                                \"../feature/bill_detail_train_time20181106.csv\", \n",
    "                                \"../feature/bill_detail_test_time20181106.csv\")\n",
    "\n",
    "trains = extractBillFeatureNoTime(trains, \n",
    "                                  \"../feature/bill_detail_train_notime20181106.csv\", \n",
    "                                  \"../feature/bill_detail_test_notime20181106.csv\")\n",
    "\n",
    "trains = extractBillFeatureAll(trains, \n",
    "                                  \"../feature/bill_detail_train_all20181106.csv\", \n",
    "                                  \"../feature/bill_detail_test_all20181106.csv\")\n",
    "trains = extractBillFeature2(trains, \n",
    "                                  \"../feature/bill_detail_feature2_train_20181106.csv\", \n",
    "                                  \"../feature/bill_detail_feature2_test_20181106.csv\")\n",
    "#Step3.2\n",
    "#保存\n",
    "print(\"save features to ../feature/features_all_train_test_20181106.csv\")\n",
    "saveFeatureToFile(trains, \"../feature/features_all_train_test_20181106.csv\")\n",
    "print(\"end\")\n"
   ]
  },
  {
   "cell_type": "code",
   "execution_count": null,
   "metadata": {},
   "outputs": [],
   "source": []
  },
  {
   "cell_type": "code",
   "execution_count": null,
   "metadata": {},
   "outputs": [],
   "source": []
  },
  {
   "cell_type": "code",
   "execution_count": null,
   "metadata": {},
   "outputs": [],
   "source": []
  }
 ],
 "metadata": {
  "kernelspec": {
   "display_name": "Python 3",
   "language": "python",
   "name": "python3"
  },
  "language_info": {
   "codemirror_mode": {
    "name": "ipython",
    "version": 3
   },
   "file_extension": ".py",
   "mimetype": "text/x-python",
   "name": "python",
   "nbconvert_exporter": "python",
   "pygments_lexer": "ipython3",
   "version": "3.6.6"
  },
  "toc": {
   "nav_menu": {},
   "number_sections": true,
   "sideBar": true,
   "skip_h1_title": false,
   "title_cell": "Table of Contents",
   "title_sidebar": "Contents",
   "toc_cell": false,
   "toc_position": {},
   "toc_section_display": true,
   "toc_window_display": false
  }
 },
 "nbformat": 4,
 "nbformat_minor": 2
}
